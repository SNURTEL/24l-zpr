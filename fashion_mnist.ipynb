{
 "cells": [
  {
   "cell_type": "markdown",
   "metadata": {
    "colab_type": "text",
    "id": "Se1CMIrWeOWn"
   },
   "source": [
    "# **Classifying Clothing Images**"
   ]
  },
  {
   "cell_type": "code",
   "execution_count": 1,
   "metadata": {
    "colab": {},
    "colab_type": "code",
    "id": "T4W0Ekpvcn1U"
   },
   "outputs": [],
   "source": [
    "# Import the necessary libraries\n",
    "import numpy as np\n",
    "import torch\n",
    "import matplotlib.pyplot as plt"
   ]
  },
  {
   "cell_type": "code",
   "execution_count": 5,
   "metadata": {
    "colab": {
     "base_uri": "https://localhost:8080/",
     "height": 51
    },
    "colab_type": "code",
    "id": "6dIcIhfVopto",
    "outputId": "c179f501-7fcb-4b34-fc7b-53f2fe3f5066"
   },
   "outputs": [
    {
     "data": {
      "text/plain": [
       "True"
      ]
     },
     "execution_count": 5,
     "metadata": {},
     "output_type": "execute_result"
    }
   ],
   "source": [
    "# GPU check\n",
    "import psutil\n",
    "import os\n",
    "\n",
    "torch.cuda.is_available()"
   ]
  },
  {
   "cell_type": "code",
   "execution_count": 9,
   "metadata": {
    "colab": {},
    "colab_type": "code",
    "id": "A2BeI0yheafI"
   },
   "outputs": [],
   "source": [
    "# Loading the Fashion-MNIST dataset\n",
    "from torchvision import datasets, transforms\n",
    "\n",
    "# Define a transform to normalize the data\n",
    "transform = transforms.Compose([transforms.ToTensor(),\n",
    "                               ])\n",
    "\n",
    "# Download and load the training data\n",
    "trainset = datasets.FashionMNIST('MNIST_data/', download = True, train = True, transform = transform)\n",
    "testset = datasets.FashionMNIST('MNIST_data/', download = True, train = False, transform = transform)\n",
    "trainloader = torch.utils.data.DataLoader(trainset, batch_size = 64, shuffle = True)\n",
    "testloader = torch.utils.data.DataLoader(testset, batch_size = 64, shuffle = True)"
   ]
  },
  {
   "cell_type": "code",
   "execution_count": 10,
   "metadata": {
    "colab": {
     "base_uri": "https://localhost:8080/",
     "height": 68
    },
    "colab_type": "code",
    "id": "7P-3bh9ajd9I",
    "outputId": "a0369c57-46d9-4af5-e30e-0352ab42933b"
   },
   "outputs": [
    {
     "name": "stdout",
     "output_type": "stream",
     "text": [
      "<class 'torch.Tensor'>\n",
      "torch.Size([64, 1, 28, 28])\n",
      "torch.Size([64])\n"
     ]
    }
   ],
   "source": [
    "# Examine a sample\n",
    "dataiter = iter(trainloader)\n",
    "images, labels = next(dataiter)\n",
    "print(type(images))\n",
    "print(images.shape)\n",
    "print(labels.shape)"
   ]
  },
  {
   "cell_type": "code",
   "execution_count": 11,
   "metadata": {
    "colab": {
     "base_uri": "https://localhost:8080/",
     "height": 282
    },
    "colab_type": "code",
    "id": "qLeSAPsJjysS",
    "outputId": "acd9bafe-392c-46cb-9bf1-79de23614da3"
   },
   "outputs": [
    {
     "data": {
      "text/plain": [
       "<matplotlib.image.AxesImage at 0x7f78da0f13d0>"
      ]
     },
     "execution_count": 11,
     "metadata": {},
     "output_type": "execute_result"
    },
    {
     "data": {
      "image/png": "[encoded data removed]",
      "text/plain": [
       "<Figure size 640x480 with 1 Axes>"
      ]
     },
     "metadata": {},
     "output_type": "display_data"
    }
   ],
   "source": [
    "plt.imshow(images[1].numpy().squeeze(), cmap = 'Greys_r')"
   ]
  },
  {
   "cell_type": "code",
   "execution_count": 12,
   "metadata": {
    "colab": {
     "base_uri": "https://localhost:8080/",
     "height": 527
    },
    "colab_type": "code",
    "id": "4ds0thNgkCqF",
    "outputId": "ef9d7ca2-ec97-40e3-9b87-bab499a57712"
   },
   "outputs": [
    {
     "name": "stdout",
     "output_type": "stream",
     "text": [
      "Epoch: 1/30.. Training loss: 0.589.. Test loss: 0.461.. Test Accuracy: 0.836\n",
      "Epoch: 2/30.. Training loss: 0.433.. Test loss: 0.397.. Test Accuracy: 0.855\n",
      "Epoch: 3/30.. Training loss: 0.401.. Test loss: 0.385.. Test Accuracy: 0.863\n",
      "Epoch: 4/30.. Training loss: 0.379.. Test loss: 0.375.. Test Accuracy: 0.864\n",
      "Epoch: 5/30.. Training loss: 0.361.. Test loss: 0.373.. Test Accuracy: 0.871\n",
      "Epoch: 6/30.. Training loss: 0.351.. Test loss: 0.359.. Test Accuracy: 0.869\n",
      "Epoch: 7/30.. Training loss: 0.343.. Test loss: 0.351.. Test Accuracy: 0.876\n",
      "Epoch: 8/30.. Training loss: 0.336.. Test loss: 0.360.. Test Accuracy: 0.878\n",
      "Epoch: 9/30.. Training loss: 0.329.. Test loss: 0.353.. Test Accuracy: 0.872\n",
      "Epoch: 10/30.. Training loss: 0.323.. Test loss: 0.341.. Test Accuracy: 0.879\n",
      "Epoch: 11/30.. Training loss: 0.314.. Test loss: 0.346.. Test Accuracy: 0.881\n",
      "Epoch: 12/30.. Training loss: 0.311.. Test loss: 0.337.. Test Accuracy: 0.881\n",
      "Epoch: 13/30.. Training loss: 0.305.. Test loss: 0.349.. Test Accuracy: 0.880\n",
      "Epoch: 14/30.. Training loss: 0.303.. Test loss: 0.359.. Test Accuracy: 0.876\n",
      "Epoch: 15/30.. Training loss: 0.300.. Test loss: 0.327.. Test Accuracy: 0.885\n",
      "Epoch: 16/30.. Training loss: 0.297.. Test loss: 0.358.. Test Accuracy: 0.874\n",
      "Epoch: 17/30.. Training loss: 0.294.. Test loss: 0.343.. Test Accuracy: 0.882\n",
      "Epoch: 18/30.. Training loss: 0.290.. Test loss: 0.347.. Test Accuracy: 0.884\n",
      "Epoch: 19/30.. Training loss: 0.283.. Test loss: 0.336.. Test Accuracy: 0.885\n",
      "Epoch: 20/30.. Training loss: 0.286.. Test loss: 0.342.. Test Accuracy: 0.880\n",
      "Epoch: 21/30.. Training loss: 0.285.. Test loss: 0.346.. Test Accuracy: 0.880\n",
      "Epoch: 22/30.. Training loss: 0.277.. Test loss: 0.349.. Test Accuracy: 0.883\n",
      "Epoch: 23/30.. Training loss: 0.278.. Test loss: 0.328.. Test Accuracy: 0.889\n",
      "Epoch: 24/30.. Training loss: 0.273.. Test loss: 0.338.. Test Accuracy: 0.887\n",
      "Epoch: 25/30.. Training loss: 0.270.. Test loss: 0.331.. Test Accuracy: 0.888\n",
      "Epoch: 26/30.. Training loss: 0.272.. Test loss: 0.344.. Test Accuracy: 0.885\n",
      "Epoch: 27/30.. Training loss: 0.266.. Test loss: 0.327.. Test Accuracy: 0.889\n",
      "Epoch: 28/30.. Training loss: 0.265.. Test loss: 0.334.. Test Accuracy: 0.891\n",
      "Epoch: 29/30.. Training loss: 0.264.. Test loss: 0.333.. Test Accuracy: 0.890\n",
      "Epoch: 30/30.. Training loss: 0.260.. Test loss: 0.363.. Test Accuracy: 0.887\n"
     ]
    }
   ],
   "source": [
    "# Define the network architecture\n",
    "from torch import nn, optim\n",
    "import torch.nn.functional as F\n",
    "\n",
    "model = nn.Sequential(nn.Linear(784, 256),\n",
    "                      nn.ReLU(),\n",
    "                      nn.Dropout(0.2),\n",
    "                      nn.Linear(256, 128),\n",
    "                      nn.ReLU(),\n",
    "                      nn.Dropout(0.2),\n",
    "                      nn.Linear(128, 64),\n",
    "                      nn.ReLU(),\n",
    "                      nn.Dropout(0.2),\n",
    "                      nn.Linear(64, 10),\n",
    "                      nn.LogSoftmax(dim = 1)\n",
    "                     )\n",
    "\n",
    "# Define the loss\n",
    "criterion = nn.NLLLoss()\n",
    "\n",
    "# Define the optimizer\n",
    "optimizer = optim.Adam(model.parameters(), lr = 0.002)\n",
    "\n",
    "# Define the epochs\n",
    "epochs = 15\n",
    "\n",
    "train_losses, test_losses = [], []\n",
    "\n",
    "for e in range(epochs):\n",
    "  running_loss = 0\n",
    "  for images, labels in trainloader:\n",
    "    # Flatten Fashion-MNIST images into a 784 long vector\n",
    "    images = images.view(images.shape[0], -1)\n",
    "    \n",
    "    # Training pass\n",
    "    optimizer.zero_grad()\n",
    "    \n",
    "    output = model.forward(images)\n",
    "    loss = criterion(output, labels)\n",
    "    loss.backward()\n",
    "    optimizer.step()\n",
    "    \n",
    "    running_loss += loss.item()\n",
    "  else:\n",
    "    test_loss = 0\n",
    "    accuracy = 0\n",
    "    \n",
    "    # Turn off gradients for validation, saves memory and computation\n",
    "    with torch.no_grad():\n",
    "      # Set the model to evaluation mode\n",
    "      model.eval()\n",
    "      \n",
    "      # Validation pass\n",
    "      for images, labels in testloader:\n",
    "        images = images.view(images.shape[0], -1)\n",
    "        log_ps = model(images)\n",
    "        test_loss += criterion(log_ps, labels)\n",
    "        \n",
    "        ps = torch.exp(log_ps)\n",
    "        top_p, top_class = ps.topk(1, dim = 1)\n",
    "        equals = top_class == labels.view(*top_class.shape)\n",
    "        accuracy += torch.mean(equals.type(torch.FloatTensor))\n",
    "    \n",
    "    model.train()\n",
    "    train_losses.append(running_loss/len(trainloader))\n",
    "    test_losses.append(test_loss/len(testloader))\n",
    "    \n",
    "    print(\"Epoch: {}/{}..\".format(e+1, epochs),\n",
    "          \"Training loss: {:.3f}..\".format(running_loss/len(trainloader)),\n",
    "          \"Test loss: {:.3f}..\".format(test_loss/len(testloader)),\n",
    "          \"Test Accuracy: {:.3f}\".format(accuracy/len(testloader)))"
   ]
  },
  {
   "cell_type": "code",
   "execution_count": 13,
   "metadata": {
    "colab": {
     "base_uri": "https://localhost:8080/",
     "height": 282
    },
    "colab_type": "code",
    "id": "24VtkQ1ouMoc",
    "outputId": "de01f033-3e6b-45f3-b009-59c821126fa8"
   },
   "outputs": [
    {
     "data": {
      "text/plain": [
       "<matplotlib.legend.Legend at 0x7f78dd562890>"
      ]
     },
     "execution_count": 13,
     "metadata": {},
     "output_type": "execute_result"
    },
    {
     "data": {
      "image/png": "[encoded data removed]",
      "text/plain": [
       "<Figure size 640x480 with 1 Axes>"
      ]
     },
     "metadata": {},
     "output_type": "display_data"
    }
   ],
   "source": [
    "plt.plot(train_losses, label = \"Training loss\")\n",
    "plt.plot(test_losses, label = \"Validation loss\")\n",
    "plt.legend(frameon = False)"
   ]
  },
  {
   "cell_type": "markdown",
   "metadata": {},
   "source": [
    "### Serialize the model"
   ]
  },
  {
   "cell_type": "code",
   "execution_count": 20,
   "metadata": {},
   "outputs": [
    {
     "name": "stdout",
     "output_type": "stream",
     "text": [
      "torch.Size([64, 1, 784])\n"
     ]
    }
   ],
   "source": [
    "example = torch.rand(64, 1, 784)\n",
    "print(example.shape)\n",
    "traced_module = torch.jit.trace(model, example)\n",
    "traced_module.save(\"dummy_model.pt\")"
   ]
  }
 ],
 "metadata": {
  "accelerator": "GPU",
  "colab": {
   "name": "fashion-mnist.ipynb",
   "provenance": [],
   "version": "0.3.2"
  },
  "kernelspec": {
   "display_name": "Python 3 (ipykernel)",
   "language": "python",
   "name": "python3"
  },
  "language_info": {
   "codemirror_mode": {
    "name": "ipython",
    "version": 3
   },
   "file_extension": ".py",
   "mimetype": "text/x-python",
   "name": "python",
   "nbconvert_exporter": "python",
   "pygments_lexer": "ipython3",
   "version": "3.11.6"
  }
 },
 "nbformat": 4,
 "nbformat_minor": 4
}
